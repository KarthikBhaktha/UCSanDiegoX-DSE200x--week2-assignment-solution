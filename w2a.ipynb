{
 "cells": [
  {
   "cell_type": "markdown",
   "metadata": {},
   "source": [
    "# UCSanDiegoX: DSE200x Week 2 Assignment with solution and explaination.\n",
    "\n",
    "The task we need to accomplish is to read a text file and print out the top 10 most common words that appear in the file."
   ]
  },
  {
   "cell_type": "markdown",
   "metadata": {},
   "source": [
    "Here we first import the library \"collections\"\n",
    "For more help on Collections please visit: https://docs.python.org/3/library/collections.html"
   ]
  },
  {
   "cell_type": "code",
   "execution_count": 10,
   "metadata": {},
   "outputs": [],
   "source": [
    "import collections"
   ]
  },
  {
   "cell_type": "markdown",
   "metadata": {},
   "source": [
    "Importing the text file"
   ]
  },
  {
   "cell_type": "code",
   "execution_count": 25,
   "metadata": {},
   "outputs": [
    {
     "name": "stdout",
     "output_type": "stream",
     "text": [
      "<class '_io.TextIOWrapper'>\n"
     ]
    }
   ],
   "source": [
    "#encoding = 'utf8' and the '\\\\' is done to avoid running into the unicode error\n",
    "#General syntax : <arbitrary name> = open('your\\\\file\\\\path.txt', encoding = \"utf8\")\n",
    "\n",
    "file = open('C:\\\\Users\\\\kats1\\\\Desktop\\\\Blacboard\\\\EdX\\\\word_cloud\\\\98-0.txt', encoding = \"utf8\")\n",
    "print(type(file))"
   ]
  },
  {
   "cell_type": "markdown",
   "metadata": {},
   "source": [
    "-Stopwords are those words that are generally discarded while performing natural language processing.\n",
    "\n",
    "-For more information visit: https://www.geeksforgeeks.org/removing-stop-words-nltk-python/\n",
    "\n",
    "-In this program We store the words in the fille as a SET object named 'sw'\n",
    "\n",
    "-For more information in .strip() please visit: https://stackoverflow.com/questions/13013734/string-strip-in-python "
   ]
  },
  {
   "cell_type": "code",
   "execution_count": 26,
   "metadata": {},
   "outputs": [
    {
     "name": "stdout",
     "output_type": "stream",
     "text": [
      "<class 'set'>\n"
     ]
    }
   ],
   "source": [
    "#.split() removes all the white spaces from the text file stopwords.\n",
    "sw = set(line.strip() for line in open('C:\\\\Users\\\\kats1\\\\Desktop\\\\Blacboard\\\\EdX\\\\word_cloud\\\\stopwords', encoding = 'utf8'))\n",
    "print(type(sw))"
   ]
  },
  {
   "cell_type": "markdown",
   "metadata": {},
   "source": [
    "Now we create a dictionary to store the words and its corresponding count in 'wordcount'"
   ]
  },
  {
   "cell_type": "code",
   "execution_count": 20,
   "metadata": {},
   "outputs": [],
   "source": [
    "wordcount = {}"
   ]
  },
  {
   "cell_type": "code",
   "execution_count": 33,
   "metadata": {},
   "outputs": [
    {
     "name": "stdout",
     "output_type": "stream",
     "text": [
      "[('said', 1284), ('mr', 1232), ('one', 840), ('lorry', 626), ('will', 580), ('upon', 578), ('little', 528), ('man', 518), ('defarge', 518), ('time', 472)]\n",
      "said :  1284\n",
      "mr :  1232\n",
      "one :  840\n",
      "lorry :  626\n",
      "will :  580\n",
      "upon :  578\n",
      "little :  528\n",
      "man :  518\n",
      "defarge :  518\n",
      "time :  472\n"
     ]
    }
   ],
   "source": [
    "#loop is used to read through the entire text file.\n",
    "for word in file.read().lower().split():\n",
    "    #replacing all the words that contaiins “ , ' \\ with empty space \"\" (not white space)\n",
    "    word = word.replace(',','')\n",
    "    word = word.replace('.','')\n",
    "    word = word.replace(\"\\\"\",\"\")\n",
    "    word = word.replace(\"“\", \"\")\n",
    "    if word not in sw:\n",
    "        if word not in wordcount:\n",
    "            wordcount[word] = 1\n",
    "        else:\n",
    "            wordcount[word] += 1\n",
    "\n",
    "\n",
    "d = collections.Counter(wordcount)\n",
    "print(d.most_common(10))\n",
    "\n",
    "for word, count in d.most_common(10):\n",
    "    print(word, \": \", count)"
   ]
  },
  {
   "cell_type": "code",
   "execution_count": null,
   "metadata": {},
   "outputs": [],
   "source": []
  }
 ],
 "metadata": {
  "kernelspec": {
   "display_name": "Python 3",
   "language": "python",
   "name": "python3"
  },
  "language_info": {
   "codemirror_mode": {
    "name": "ipython",
    "version": 3
   },
   "file_extension": ".py",
   "mimetype": "text/x-python",
   "name": "python",
   "nbconvert_exporter": "python",
   "pygments_lexer": "ipython3",
   "version": "3.6.4"
  }
 },
 "nbformat": 4,
 "nbformat_minor": 2
}
