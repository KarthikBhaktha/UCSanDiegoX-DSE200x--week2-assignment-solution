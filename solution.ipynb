{
 "cells": [
  {
   "cell_type": "markdown",
   "metadata": {},
   "source": [
    "# UCSanDiegoX: DSE200x Week 2 Assignment with solution and explaination.\n",
    "\n",
    "The task we need to accomplish is to read a text file and print out the top 10 most common words that appear in the file."
   ]
  },
  {
   "cell_type": "markdown",
   "metadata": {},
   "source": [
    "Here we first import the library \"collections\"\n",
    "For more help on Collections please visit: https://docs.python.org/3/library/collections.html"
   ]
  },
  {
   "cell_type": "code",
   "execution_count": 53,
   "metadata": {},
   "outputs": [],
   "source": [
    "import collections"
   ]
  },
  {
   "cell_type": "markdown",
   "metadata": {},
   "source": [
    "Importing the text file"
   ]
  },
  {
   "cell_type": "code",
   "execution_count": 54,
   "metadata": {},
   "outputs": [],
   "source": [
    "#encoding = 'utf8' and the '\\\\' is done to avoid running into the unicode error\n",
    "#General syntax : <arbitrary name> = open('your\\\\file\\\\path.txt', encoding = \"utf8\")\n",
    "\n",
    "file = open('C:\\\\Users\\\\kats1\\\\Desktop\\\\Blacboard\\\\EdX\\\\word_cloud\\\\98-0.txt', encoding = \"utf8\")\n"
   ]
  },
  {
   "cell_type": "markdown",
   "metadata": {},
   "source": [
    "- Stopwords are those words that are generally discarded while performing natural language processing.\n",
    "\n",
    "- For more information visit: https://www.geeksforgeeks.org/removing-stop-words-nltk-python/\n",
    "\n",
    "- In this program We store the words in the fille as a 'set' object named 'sw'\n",
    "\n",
    "- For more information in .strip() please visit: https://stackoverflow.com/questions/13013734/string-strip-in-python "
   ]
  },
  {
   "cell_type": "code",
   "execution_count": 55,
   "metadata": {},
   "outputs": [],
   "source": [
    "#.strip() removes all the white spaces from the text file stopwords.\n",
    "sw = set(line.strip() for line in open('C:\\\\Users\\\\kats1\\\\Desktop\\\\Blacboard\\\\EdX\\\\word_cloud\\\\stopwords', encoding = 'utf8'))\n"
   ]
  },
  {
   "cell_type": "markdown",
   "metadata": {},
   "source": [
    "Now we create a dictionary to store the words and its corresponding count in 'wordcount'\n",
    "We are usning dictionary because it can be used to hold 'key:value' pair in its data structure."
   ]
  },
  {
   "cell_type": "code",
   "execution_count": 56,
   "metadata": {},
   "outputs": [],
   "source": [
    "wordcount = {}\n"
   ]
  },
  {
   "cell_type": "markdown",
   "metadata": {},
   "source": [
    "The following loop will be used to scan through the text file."
   ]
  },
  {
   "cell_type": "code",
   "execution_count": 61,
   "metadata": {},
   "outputs": [
    {
     "name": "stdout",
     "output_type": "stream",
     "text": [
      "642\n",
      "This is the data in wordcount dictionary \n",
      " [('said', 642), ('mr', 616), ('one', 420), ('lorry', 313), ('will', 290), ('upon', 289), ('little', 264), ('man', 259), ('defarge', 259), ('time', 236)] \n",
      "\n",
      "Here are the top 10 most common words that came up in the text file: \n",
      "\n",
      "said :  642\n",
      "mr :  616\n",
      "one :  420\n",
      "lorry :  313\n",
      "will :  290\n",
      "upon :  289\n",
      "little :  264\n",
      "man :  259\n",
      "defarge :  259\n",
      "time :  236\n"
     ]
    }
   ],
   "source": [
    "#loop is used to read through the entire text file.\n",
    "\n",
    "\n",
    "for word in file.read().lower().split():\n",
    "    #removing all symbols  “ , ' \\ \n",
    "    word = word.replace(',','')\n",
    "    word = word.replace('.','')\n",
    "    word = word.replace(\"\\\"\",\"\")\n",
    "    word = word.replace(\"“\", \"\")\n",
    "    if word not in sw:\n",
    "        if word not in wordcount:\n",
    "            wordcount[word] = 1\n",
    "        else:\n",
    "            wordcount[word] += 1\n",
    "#print(wordcount)\n",
    "#counter is used to calculate the frequency of words in the file.\n",
    "d = collections.Counter(wordcount)\n",
    "print(d[''])\n",
    "#most_count(10) generates the top 10 most common words found\n",
    "print('This is the data in wordcount dictionary \\n' , d.most_common(10), '\\n')\n",
    "\n",
    "print('Here are the top 10 most common words that came up in the text file: \\n')\n",
    "for word, count in d.most_common(10):\n",
    "    print(word, \": \", count)"
   ]
  }
 ],
 "metadata": {
  "kernelspec": {
   "display_name": "Python 3",
   "language": "python",
   "name": "python3"
  },
  "language_info": {
   "codemirror_mode": {
    "name": "ipython",
    "version": 3
   },
   "file_extension": ".py",
   "mimetype": "text/x-python",
   "name": "python",
   "nbconvert_exporter": "python",
   "pygments_lexer": "ipython3",
   "version": "3.6.4"
  }
 },
 "nbformat": 4,
 "nbformat_minor": 2
}
